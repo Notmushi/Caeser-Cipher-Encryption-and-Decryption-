{
  "cells": [
    {
      "cell_type": "code",
      "execution_count": null,
      "metadata": {
        "colab": {
          "background_save": true,
          "base_uri": "https://localhost:8080/"
        },
        "id": "bu8tVE-Rf9v9",
        "outputId": "185a8687-46bc-40f8-d171-67808c7c298d"
      },
      "outputs": [
        {
          "name": "stdout",
          "output_type": "stream",
          "text": [
            "Caeser Cipher\n",
            " 1 for Encryption \n",
            " 0 for Decryption \n",
            "  01 to exit.. \n",
            "--------------------------------------------------\n",
            "Your ciphertext ---> qdyhhg\n",
            "--------------------------------------------------\n",
            "Special symbols (!,# etc and numbers) are deleted..\n",
            "Caeser Cipher\n",
            " 1 for Encryption \n",
            " 0 for Decryption \n",
            "  01 to exit.. \n",
            "Caeser Cipher\n",
            " 1 for Encryption \n",
            " 0 for Decryption \n",
            "  01 to exit.. \n"
          ]
        }
      ],
      "source": [
        "\n",
        "def Encryption(plaintext, key_val):\n",
        "    ciphertext = ''\n",
        "    for i in range(len(plaintext)):\n",
        "        special = plaintext[i]\n",
        "        new_special = special.lower()\n",
        "        if new_special == \" \":\n",
        "            ciphertext += ' '\n",
        "        elif special.isalpha():\n",
        "            ciphertext += chr((ord(new_special) + key_val - 97) % 26 + 97)\n",
        "\n",
        "    return ciphertext\n",
        "\n",
        "\n",
        "def Decryption(ciphertext, key_val):\n",
        "    plaintext = ''\n",
        "    for i in range(len(ciphertext)):\n",
        "        special = ciphertext[i]\n",
        "        new_special = special.lower()\n",
        "        if new_special == \" \":\n",
        "            plaintext += ' '\n",
        "        elif special.isalpha():\n",
        "            plaintext += chr((ord(new_special) - key_val - 97) % 26 + 97)\n",
        "    return plaintext\n",
        "\n",
        "\n",
        "while True:\n",
        "    print(\n",
        "        'Caeser Cipher\\n 1 for Encryption \\n 0 for Decryption \\n  01 to exit.. ')\n",
        "    choice = input('Insert Here : ')\n",
        "    if choice.isdigit():\n",
        "        if choice == '1':\n",
        "            sen = input('Insert the plaintext : ')\n",
        "            key = int(input('Insert Key value(Only integer values) : '))\n",
        "            print(50 * '-')\n",
        "            print(f'Your ciphertext ---> {Encryption(sen, key)}')\n",
        "            print(50 * '-')\n",
        "            print('Special symbols (!,# etc and numbers) are deleted..')\n",
        "            con = input('Shall we continue ? [Any Key/no]')\n",
        "            if con == 'no':\n",
        "                print('Exiting..')\n",
        "                break\n",
        "            else:\n",
        "                pass\n",
        "        elif choice == '0':\n",
        "            csen = input('Insert the ciphertext : ')\n",
        "            key = int(input('Insert shift value(Only integer values) : '))\n",
        "            print(50 * '-')\n",
        "            print(f'Your plaintext ---> {Decryption(csen, key)}')\n",
        "            print(50 * '-')\n",
        "            print('Special symbols (!,# etc and numbers) are deleted..')\n",
        "            con = input('Shall we continue ? [Any Key/no]')\n",
        "            if con == 'no':\n",
        "                print('Exiting..')\n",
        "                break\n",
        "            else:\n",
        "                pass\n",
        "        elif choice == '01':\n",
        "            print('Exiting..')\n",
        "            break\n",
        "        else:\n",
        "            print('Exception error .. \\n'\n",
        "                  'Please insert 0 or 1 ')"
      ]
    }
  ],
  "metadata": {
    "colab": {
      "provenance": []
    },
    "kernelspec": {
      "display_name": "Python 3",
      "name": "python3"
    },
    "language_info": {
      "name": "python"
    }
  },
  "nbformat": 4,
  "nbformat_minor": 0
}